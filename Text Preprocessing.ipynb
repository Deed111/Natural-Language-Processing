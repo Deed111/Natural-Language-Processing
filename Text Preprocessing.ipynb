{
 "cells": [
  {
   "cell_type": "code",
   "execution_count": 5,
   "id": "c3f368d2",
   "metadata": {},
   "outputs": [
    {
     "name": "stderr",
     "output_type": "stream",
     "text": [
      "[nltk_data] Downloading package punkt to\n",
      "[nltk_data]     C:\\Users\\Dell\\AppData\\Roaming\\nltk_data...\n",
      "[nltk_data]   Unzipping tokenizers\\punkt.zip.\n"
     ]
    }
   ],
   "source": [
    "# import required libraries\n",
    "import nltk\n",
    "import string\n",
    "nltk.download('punkt') #requirement\n",
    "from nltk.tokenize import sent_tokenize\n",
    "from nltk.tokenize import word_tokenize"
   ]
  },
  {
   "cell_type": "code",
   "execution_count": 6,
   "id": "241eae22",
   "metadata": {},
   "outputs": [
    {
     "name": "stdout",
     "output_type": "stream",
     "text": [
      "Contrary to popular belief!, Lorem Ipsum is not simply random text.\n",
      "It has root's in a piece of classical Latin literature from 45 BC,\n",
      "making it over 2000 years old!. Richard's McClintock, a Latin professor at\n",
      "Hampden-Sydney in Virginia, looked up one of the more obscure Latin words.\n"
     ]
    }
   ],
   "source": [
    "corpus = '''Contrary to popular belief!, Lorem Ipsum is not simply random text.\n",
    "It has root's in a piece of classical Latin literature from 45 BC,\n",
    "making it over 2000 years old!. Richard's McClintock, a Latin professor at\n",
    "Hampden-Sydney in Virginia, looked up one of the more obscure Latin words.'''\n",
    "\n",
    "print(corpus)"
   ]
  },
  {
   "cell_type": "code",
   "execution_count": 7,
   "id": "3ac146d1",
   "metadata": {},
   "outputs": [
    {
     "name": "stdout",
     "output_type": "stream",
     "text": [
      "['Contrary to popular belief!, Lorem Ipsum is not simply random text.', \"It has root's in a piece of classical Latin literature from 45 BC,\\nmaking it over 2000 years old!.\", \"Richard's McClintock, a Latin professor at\\nHampden-Sydney in Virginia, looked up one of the more obscure Latin words.\"]\n",
      "\n"
     ]
    }
   ],
   "source": [
    "# converting corpur inot documents\n",
    "docs=sent_tokenize(corpus)\n",
    "print(docs)\n",
    "print()\n"
   ]
  },
  {
   "cell_type": "code",
   "execution_count": 11,
   "id": "935f29f9",
   "metadata": {},
   "outputs": [
    {
     "name": "stdout",
     "output_type": "stream",
     "text": [
      "sentence_1: Contrary to popular belief!, Lorem Ipsum is not simply random text.\n",
      "sentence_2: It has root's in a piece of classical Latin literature from 45 BC,\n",
      "making it over 2000 years old!.\n",
      "sentence_3: Richard's McClintock, a Latin professor at\n",
      "Hampden-Sydney in Virginia, looked up one of the more obscure Latin words.\n"
     ]
    }
   ],
   "source": [
    "# looping through the document to see each senstance \n",
    "for i, sentences in enumerate(docs):\n",
    "    print(f\"sentence_{i+1}: {sentences}\")"
   ]
  },
  {
   "cell_type": "code",
   "execution_count": 12,
   "id": "7ff27f3d",
   "metadata": {},
   "outputs": [
    {
     "name": "stdout",
     "output_type": "stream",
     "text": [
      "['Contrary', 'to', 'popular', 'belief', '!', ',', 'Lorem', 'Ipsum', 'is', 'not', 'simply', 'random', 'text', '.']\n",
      "['It', 'has', 'root', \"'s\", 'in', 'a', 'piece', 'of', 'classical', 'Latin', 'literature', 'from', '45', 'BC', ',', 'making', 'it', 'over', '2000', 'years', 'old', '!', '.']\n",
      "['Richard', \"'s\", 'McClintock', ',', 'a', 'Latin', 'professor', 'at', 'Hampden-Sydney', 'in', 'Virginia', ',', 'looked', 'up', 'one', 'of', 'the', 'more', 'obscure', 'Latin', 'words', '.']\n"
     ]
    }
   ],
   "source": [
    "#coverting documents into word\n",
    "\n",
    "for sentences in docs:\n",
    "    print(word_tokenize(sentences))"
   ]
  },
  {
   "cell_type": "code",
   "execution_count": 15,
   "id": "608bd176",
   "metadata": {},
   "outputs": [
    {
     "name": "stdout",
     "output_type": "stream",
     "text": [
      "['Contrary', 'to', 'popular', 'belief', '!,', 'Lorem', 'Ipsum', 'is', 'not', 'simply', 'random', 'text', '.']\n",
      "['It', 'has', 'root', \"'\", 's', 'in', 'a', 'piece', 'of', 'classical', 'Latin', 'literature', 'from', '45', 'BC', ',', 'making', 'it', 'over', '2000', 'years', 'old', '!.']\n",
      "['Richard', \"'\", 's', 'McClintock', ',', 'a', 'Latin', 'professor', 'at', 'Hampden', '-', 'Sydney', 'in', 'Virginia', ',', 'looked', 'up', 'one', 'of', 'the', 'more', 'obscure', 'Latin', 'words', '.']\n"
     ]
    }
   ],
   "source": [
    "\"\"\" to overcome the issue of even the puctuatiosn are also being \n",
    "considered as word for the tokenizer \n",
    "let's use wordpunct_tokenizer\n",
    "\"\"\"\n",
    "\n",
    "from nltk.tokenize import wordpunct_tokenize\n",
    "\n",
    "for sentences in docs:\n",
    "    print(wordpunct_tokenize(sentences))\n"
   ]
  },
  {
   "cell_type": "markdown",
   "id": "582fc704",
   "metadata": {},
   "source": [
    "# StopWords"
   ]
  },
  {
   "cell_type": "code",
   "execution_count": 21,
   "id": "e6cafe21",
   "metadata": {},
   "outputs": [
    {
     "name": "stderr",
     "output_type": "stream",
     "text": [
      "[nltk_data] Downloading package stopwords to\n",
      "[nltk_data]     C:\\Users\\Dell\\AppData\\Roaming\\nltk_data...\n",
      "[nltk_data]   Unzipping corpora\\stopwords.zip.\n"
     ]
    },
    {
     "data": {
      "text/plain": [
       "True"
      ]
     },
     "execution_count": 21,
     "metadata": {},
     "output_type": "execute_result"
    }
   ],
   "source": [
    "# import libraries \n",
    "from nltk.corpus import stopwords\n",
    "nltk.download('stopwords')"
   ]
  },
  {
   "cell_type": "code",
   "execution_count": 23,
   "id": "090d5ec2",
   "metadata": {},
   "outputs": [
    {
     "name": "stdout",
     "output_type": "stream",
     "text": [
      "['i', 'me', 'my', 'myself', 'we', 'our', 'ours', 'ourselves', 'you', \"you're\", \"you've\", \"you'll\", \"you'd\", 'your', 'yours', 'yourself', 'yourselves', 'he', 'him', 'his', 'himself', 'she', \"she's\", 'her', 'hers', 'herself', 'it', \"it's\", 'its', 'itself', 'they', 'them', 'their', 'theirs', 'themselves', 'what', 'which', 'who', 'whom', 'this', 'that', \"that'll\", 'these', 'those', 'am', 'is', 'are', 'was', 'were', 'be', 'been', 'being', 'have', 'has', 'had', 'having', 'do', 'does', 'did', 'doing', 'a', 'an', 'the', 'and', 'but', 'if', 'or', 'because', 'as', 'until', 'while', 'of', 'at', 'by', 'for', 'with', 'about', 'against', 'between', 'into', 'through', 'during', 'before', 'after', 'above', 'below', 'to', 'from', 'up', 'down', 'in', 'out', 'on', 'off', 'over', 'under', 'again', 'further', 'then', 'once', 'here', 'there', 'when', 'where', 'why', 'how', 'all', 'any', 'both', 'each', 'few', 'more', 'most', 'other', 'some', 'such', 'no', 'nor', 'not', 'only', 'own', 'same', 'so', 'than', 'too', 'very', 's', 't', 'can', 'will', 'just', 'don', \"don't\", 'should', \"should've\", 'now', 'd', 'll', 'm', 'o', 're', 've', 'y', 'ain', 'aren', \"aren't\", 'couldn', \"couldn't\", 'didn', \"didn't\", 'doesn', \"doesn't\", 'hadn', \"hadn't\", 'hasn', \"hasn't\", 'haven', \"haven't\", 'isn', \"isn't\", 'ma', 'mightn', \"mightn't\", 'mustn', \"mustn't\", 'needn', \"needn't\", 'shan', \"shan't\", 'shouldn', \"shouldn't\", 'wasn', \"wasn't\", 'weren', \"weren't\", 'won', \"won't\", 'wouldn', \"wouldn't\"]\n"
     ]
    }
   ],
   "source": [
    "# print all the stop words in any language\n",
    "stop_words=stopwords.words(\"english\")\n",
    "print(stop_words)"
   ]
  },
  {
   "cell_type": "code",
   "execution_count": 24,
   "id": "a198128c",
   "metadata": {},
   "outputs": [
    {
     "name": "stdout",
     "output_type": "stream",
     "text": [
      "['Richard', \"'s\", 'McClintock', ',', 'Latin', 'professor', 'Hampden-Sydney', 'Virginia', ',', 'looked', 'one', 'obscure', 'Latin', 'words', '.']\n",
      "['Richard', \"'s\", 'McClintock', ',', 'Latin', 'professor', 'Hampden-Sydney', 'Virginia', ',', 'looked', 'one', 'obscure', 'Latin', 'words', '.']\n",
      "['Richard', \"'s\", 'McClintock', ',', 'Latin', 'professor', 'Hampden-Sydney', 'Virginia', ',', 'looked', 'one', 'obscure', 'Latin', 'words', '.']\n"
     ]
    }
   ],
   "source": [
    "# remove stopwors from my word tokenizer\n",
    "for sentances in docs:\n",
    "    tokens=word_tokenize(sentences)\n",
    "    tokens=[word for word in tokens if word.lower() not in stop_words]\n",
    "    print(tokens)"
   ]
  },
  {
   "cell_type": "markdown",
   "id": "f3d456e7",
   "metadata": {},
   "source": [
    "# Stemming"
   ]
  },
  {
   "cell_type": "code",
   "execution_count": 25,
   "id": "0a8bcebc",
   "metadata": {},
   "outputs": [],
   "source": [
    "word_list = ['programming', 'programs', 'programmer', 'programmed', 'acheive', 'acheiving', 'acheived', 'achievement',\n",
    "             'enjoyed', 'enjoying', 'history', 'historical', 'eating', 'eaten', 'orderly', 'friendly']"
   ]
  },
  {
   "cell_type": "code",
   "execution_count": 31,
   "id": "e76e9bee",
   "metadata": {},
   "outputs": [
    {
     "name": "stdout",
     "output_type": "stream",
     "text": [
      "programming = program\n",
      "programs = program\n",
      "programmer = programm\n",
      "programmed = program\n",
      "acheive = acheiv\n",
      "acheiving = acheiv\n",
      "acheived = acheiv\n",
      "achievement = achiev\n",
      "enjoyed = enjoy\n",
      "enjoying = enjoy\n",
      "history = histori\n",
      "historical = histor\n",
      "eating = eat\n",
      "eaten = eaten\n",
      "orderly = orderli\n",
      "friendly = friendli\n"
     ]
    }
   ],
   "source": [
    "from nltk.stem import PorterStemmer\n",
    "stem=PorterStemmer().stem\n",
    "for word in word_list:\n",
    "    print(word,\"=\",stem(word))"
   ]
  },
  {
   "cell_type": "code",
   "execution_count": 33,
   "id": "3e92f3ce",
   "metadata": {},
   "outputs": [
    {
     "name": "stdout",
     "output_type": "stream",
     "text": [
      "programming = program\n",
      "programs = program\n",
      "programmer = programm\n",
      "programmed = program\n",
      "acheive = acheiv\n",
      "acheiving = acheiv\n",
      "acheived = acheiv\n",
      "achievement = achiev\n",
      "enjoyed = enjoy\n",
      "enjoying = enjoy\n",
      "history = histori\n",
      "historical = histor\n",
      "eating = eat\n",
      "eaten = eaten\n",
      "orderly = order\n",
      "friendly = friend\n"
     ]
    }
   ],
   "source": [
    "# lets use something which might consider language dictionay to give meaning root words\n",
    "from nltk.stem import SnowballStemmer\n",
    "sw=SnowballStemmer(\"english\").stem\n",
    "for word in word_list:\n",
    "    print(word,\"=\",sw(word))"
   ]
  },
  {
   "cell_type": "markdown",
   "id": "f78a10cf",
   "metadata": {},
   "source": [
    "The SnowBallStemmer also didn,t gave the result quite as expected \n"
   ]
  },
  {
   "cell_type": "markdown",
   "id": "13008c93",
   "metadata": {},
   "source": [
    "# Lammtization"
   ]
  },
  {
   "cell_type": "code",
   "execution_count": 36,
   "id": "b1f4b63a",
   "metadata": {},
   "outputs": [
    {
     "name": "stderr",
     "output_type": "stream",
     "text": [
      "[nltk_data] Downloading package wordnet to\n",
      "[nltk_data]     C:\\Users\\Dell\\AppData\\Roaming\\nltk_data...\n"
     ]
    },
    {
     "data": {
      "text/plain": [
       "True"
      ]
     },
     "execution_count": 36,
     "metadata": {},
     "output_type": "execute_result"
    }
   ],
   "source": [
    "# import libraries\n",
    "from nltk.stem import WordNetLemmatizer\n",
    "lem=WordNetLemmatizer().lemmatize\n",
    "nltk.download('wordnet')\n"
   ]
  },
  {
   "cell_type": "code",
   "execution_count": 40,
   "id": "f353df82",
   "metadata": {},
   "outputs": [
    {
     "name": "stdout",
     "output_type": "stream",
     "text": [
      "programming = program\n",
      "programs = program\n",
      "programmer = programmer\n",
      "programmed = program\n",
      "acheive = acheive\n",
      "acheiving = acheiving\n",
      "acheived = acheived\n",
      "achievement = achievement\n",
      "enjoyed = enjoy\n",
      "enjoying = enjoy\n",
      "history = history\n",
      "historical = historical\n",
      "eating = eat\n",
      "eaten = eat\n",
      "orderly = orderly\n",
      "friendly = friendly\n"
     ]
    }
   ],
   "source": [
    "for word in word_list:\n",
    "    print(word,\"=\",lem(word,pos=\"v\"))"
   ]
  },
  {
   "cell_type": "code",
   "execution_count": 44,
   "id": "9573cd0b",
   "metadata": {},
   "outputs": [
    {
     "data": {
      "text/plain": [
       "['contrari popular belief ! , lorem ipsum simpli random text .',\n",
       " \"root 's piec classic latin literatur 45 bc , make 2000 year old ! .\",\n",
       " \"richard 's mcclintock , latin professor hampden-sydney virginia , look one obscur latin word .\"]"
      ]
     },
     "execution_count": 44,
     "metadata": {},
     "output_type": "execute_result"
    }
   ],
   "source": [
    "#lets apply stemming on our corpus\n",
    "sentences=sent_tokenize(corpus)\n",
    "for i in range(len(sentences)):\n",
    "    token=word_tokenize(sentences[i])\n",
    "    token=[stem(word) for word in token if word.lower() not in stop_words]\n",
    "    sentences[i]=\" \".join(token)\n",
    "sentences\n",
    "   "
   ]
  },
  {
   "cell_type": "code",
   "execution_count": 45,
   "id": "73c62658",
   "metadata": {},
   "outputs": [
    {
     "data": {
      "text/plain": [
       "['Contrary popular belief ! , Lorem Ipsum simply random text .',\n",
       " \"root 's piece classical Latin literature 45 BC , make 2000 years old ! .\",\n",
       " \"Richard 's McClintock , Latin professor Hampden-Sydney Virginia , look one obscure Latin word .\"]"
      ]
     },
     "execution_count": 45,
     "metadata": {},
     "output_type": "execute_result"
    }
   ],
   "source": [
    "#lets apply lemmatization on our corpus\n",
    "sentences=sent_tokenize(corpus)\n",
    "for i in range(len(sentences)):\n",
    "    token=word_tokenize(sentences[i])\n",
    "    token=[lem(word, pos=\"v\") for word in token if word.lower() not in stop_words]\n",
    "    sentences[i]=\" \".join(token)\n",
    "sentences"
   ]
  },
  {
   "cell_type": "code",
   "execution_count": 47,
   "id": "1bd11074",
   "metadata": {},
   "outputs": [
    {
     "name": "stderr",
     "output_type": "stream",
     "text": [
      "[nltk_data] Downloading package averaged_perceptron_tagger to\n",
      "[nltk_data]     C:\\Users\\Dell\\AppData\\Roaming\\nltk_data...\n",
      "[nltk_data]   Unzipping taggers\\averaged_perceptron_tagger.zip.\n"
     ]
    },
    {
     "data": {
      "text/plain": [
       "True"
      ]
     },
     "execution_count": 47,
     "metadata": {},
     "output_type": "execute_result"
    }
   ],
   "source": [
    "# Requirements\n",
    "nltk.download('averaged_perceptron_tagger')"
   ]
  },
  {
   "cell_type": "code",
   "execution_count": 48,
   "id": "030a1aa0",
   "metadata": {},
   "outputs": [
    {
     "name": "stdout",
     "output_type": "stream",
     "text": [
      "[('This', 'DT'), ('is', 'VBZ'), ('natural', 'JJ'), ('language', 'NN'), ('processing', 'NN'), ('class', 'NN'), ('by', 'IN'), ('Suresh', 'NNP')]\n"
     ]
    }
   ],
   "source": [
    "print(nltk.pos_tag('This is natural language processing class by Suresh'.split()))"
   ]
  },
  {
   "cell_type": "code",
   "execution_count": 49,
   "id": "b676b7d6",
   "metadata": {},
   "outputs": [],
   "source": [
    "## These are pos Tags\n",
    "\n",
    "# CC coordinating conjunction\n",
    "# CD cardinal digit\n",
    "# DT determiner\n",
    "# EX existential there (like: “there is” … think of it like “there exists”)\n",
    "# FW foreign word\n",
    "# IN preposition/subordinating conjunction\n",
    "# JJ adjective ‘big’\n",
    "# JJR adjective, comparative ‘bigger’\n",
    "# JJS adjective, superlative ‘biggest’\n",
    "# LS list marker 1)\n",
    "# MD modal could, will\n",
    "# NN noun, singular ‘desk’\n",
    "# NNS noun plural ‘desks’\n",
    "# NNP proper noun, singular ‘Harrison’\n",
    "# NNPS proper noun, plural ‘Americans’\n",
    "# PDT predeterminer ‘all the kids’\n",
    "# POS possessive ending parent’s\n",
    "# PRP personal pronoun I, he, she\n",
    "# PRP$ possessive pronoun my, his, hers\n",
    "# RB adverb very, silently,\n",
    "# RBR adverb, comparative better\n",
    "# RBS adverb, superlative best\n",
    "# RP particle give up\n",
    "# TO, to go ‘to’ the store.\n",
    "# UH interjection, errrrrrrrm\n",
    "# VB verb, base form take\n",
    "# VBD verb, past tense took\n",
    "# VBG verb, gerund/present participle taking\n",
    "# VBN verb, past participle taken\n",
    "# VBP verb, sing. present, non-3d take\n",
    "# VBZ verb, 3rd person sing. present takes\n",
    "# WDT wh-determiner which\n",
    "# WP wh-pronoun who, what\n",
    "# WP$ possessive wh-pronoun whose\n",
    "# WRB wh-abverb where, when"
   ]
  },
  {
   "cell_type": "code",
   "execution_count": null,
   "id": "7e2483cf",
   "metadata": {},
   "outputs": [],
   "source": []
  }
 ],
 "metadata": {
  "kernelspec": {
   "display_name": "Python 3 (ipykernel)",
   "language": "python",
   "name": "python3"
  },
  "language_info": {
   "codemirror_mode": {
    "name": "ipython",
    "version": 3
   },
   "file_extension": ".py",
   "mimetype": "text/x-python",
   "name": "python",
   "nbconvert_exporter": "python",
   "pygments_lexer": "ipython3",
   "version": "3.11.5"
  }
 },
 "nbformat": 4,
 "nbformat_minor": 5
}
